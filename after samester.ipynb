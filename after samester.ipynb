{
 "cells": [
  {
   "cell_type": "code",
   "execution_count": 2,
   "metadata": {},
   "outputs": [],
   "source": [
    "def div(x,y):\n",
    "    divsion=x/y\n",
    "    return divsion"
   ]
  },
  {
   "cell_type": "code",
   "execution_count": 15,
   "metadata": {},
   "outputs": [
    {
     "name": "stdout",
     "output_type": "stream",
     "text": [
      "diehfn hie u bieh hiv hv\n"
     ]
    }
   ],
   "source": [
    "try:\n",
    "    print(\"everything is divsion \", div(\"x\",5))\n",
    "except TypeError:\n",
    "    y=\"diehfn hie u bieh hiv hv\"\n",
    "    print(y)"
   ]
  },
  {
   "cell_type": "code",
   "execution_count": 5,
   "metadata": {},
   "outputs": [],
   "source": [
    "def f(x,y):\n",
    "    div=x/y\n",
    "    return div"
   ]
  },
  {
   "cell_type": "code",
   "execution_count": 2,
   "metadata": {},
   "outputs": [],
   "source": [
    "import pdb  #this is debudgging debudiing id the process to finf the error lin by line so i used this firts time forst we import\n",
    "#thr llibaray thta pdb form python  these command of the l and c and n"
   ]
  },
  {
   "cell_type": "code",
   "execution_count": 6,
   "metadata": {},
   "outputs": [
    {
     "name": "stdout",
     "output_type": "stream",
     "text": [
      "--Return--\n",
      "> <ipython-input-6-026c6ae59d04>(1)<module>()->None\n",
      "-> pdb.set_trace()\n",
      "(Pdb) iftikhar\n",
      "*** NameError: name 'iftikhar' is not defined\n",
      "(Pdb) l\n",
      "  1  ->\tpdb.set_trace()\n",
      "  2  \tname=input(\"please neter the your name : \")\n",
      "  3  \tage=input(\"plaese nete r your age  : \")\n",
      "  4  \tprint(\" your name is bhal vhal \", name)\n",
      "  5  \tprint(\"your age is bhal bhala , \" ,age)\n",
      "[EOF]\n",
      "(Pdb) n\n",
      "> e:\\anaconda\\lib\\site-packages\\ipython\\core\\interactiveshell.py(2966)run_code()\n",
      "-> sys.excepthook = old_excepthook\n",
      "(Pdb) c\n",
      "please neter the your name : iftikhar\n",
      "plaese nete r your age  : 45\n",
      " your name is bhal vhal  iftikhar\n",
      "your age is bhal bhala ,  45\n"
     ]
    }
   ],
   "source": [
    "pdb.set_trace()\n",
    "name=input(\"please neter the your name : \")\n",
    "age=input(\"plaese nete r your age  : \")\n",
    "print(\" your name is bhal vhal \", name)\n",
    "print(\"your age is bhal bhala , \" ,age)"
   ]
  },
  {
   "cell_type": "code",
   "execution_count": null,
   "metadata": {},
   "outputs": [],
   "source": []
  }
 ],
 "metadata": {
  "kernelspec": {
   "display_name": "Python 3",
   "language": "python",
   "name": "python3"
  },
  "language_info": {
   "codemirror_mode": {
    "name": "ipython",
    "version": 3
   },
   "file_extension": ".py",
   "mimetype": "text/x-python",
   "name": "python",
   "nbconvert_exporter": "python",
   "pygments_lexer": "ipython3",
   "version": "3.6.5"
  }
 },
 "nbformat": 4,
 "nbformat_minor": 2
}
